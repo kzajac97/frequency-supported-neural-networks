{
 "cells": [
  {
   "cell_type": "markdown",
   "id": "b44cd7e3-99c1-4bc0-a636-c3189757792a",
   "metadata": {
    "tags": []
   },
   "source": [
    "# Experiment\n",
    "\n",
    "Experiments were run using WANDB as experiment management tool, using sweeps to search for hyperparameters.\n",
    "\n",
    "### Setup"
   ]
  },
  {
   "cell_type": "code",
   "execution_count": null,
   "id": "2b82f516-c192-4671-9f73-829becf3c027",
   "metadata": {},
   "outputs": [],
   "source": [
    "%load_ext autoreload"
   ]
  },
  {
   "cell_type": "code",
   "execution_count": null,
   "id": "3d4ff7ad-3e17-4f26-8b44-2aba95b85ca3",
   "metadata": {},
   "outputs": [],
   "source": [
    "import sys\n",
    "\n",
    "sys.path.append(\"..\")"
   ]
  },
  {
   "cell_type": "code",
   "execution_count": null,
   "id": "bd6ba8d4-24f9-46da-b1ab-5298fce36229",
   "metadata": {},
   "outputs": [],
   "source": [
    "%autoreload 2\n",
    "\n",
    "from time import time as clock_timer\n",
    "\n",
    "import numpy as np\n",
    "import pandas as pd\n",
    "import torch\n",
    "import wandb\n",
    "from matplotlib import pyplot as plt\n",
    "\n",
    "from src.experiment.reporters import ReporterList, RepressionReporter, PredictionPlotReporter, TrainingHistoryPlotReporter\n",
    "from src.datasets.data_loaders import TorchTimeSeriesCsvDataLoader\n",
    "from src.experiment.runner import WandbRunner\n",
    "from src.experiment.models import fmlp_from_parameters, time_series_mlp_from_parameters, frequency_only_mlp_from_parameters\n",
    "from src.trainers import callbacks\n",
    "from src.metrics.regression import regression_report, regression_score\n",
    "from src.models.fmlp import TimeFrequencyLinear\n",
    "from src.models.utils import count_trainable_parameters"
   ]
  },
  {
   "cell_type": "markdown",
   "id": "63d8e3d0-fff7-4206-bc4f-96db06a149f7",
   "metadata": {},
   "source": [
    "### Reporters\n",
    "\n",
    "Reporters are standalone classes used to report experiment results to WANBD dashboard, for particular benchmark. Two of the are implemented:\n",
    "* `RepressionReporter` - reporting regression metrics, such as RMSE or $R^2$\n",
    "* `PredictionPlotReporter` - plotting model predictions against system measurements along with error"
   ]
  },
  {
   "cell_type": "code",
   "execution_count": null,
   "id": "313ad198-350d-4034-9dfe-f1907c2fa0cc",
   "metadata": {},
   "outputs": [],
   "source": [
    "reporters = ReporterList([RepressionReporter(), PredictionPlotReporter()])"
   ]
  },
  {
   "cell_type": "markdown",
   "id": "c9aff033-0753-4698-9f75-51e9b56babbe",
   "metadata": {},
   "source": [
    "### Data Loader\n",
    "\n",
    "Data loader is utility class used for training and testing the model (also supports valiation), which requires configuration for given benchmark.\n",
    "Data loader provided in example is configured for Wiener-Hammerstein benchmark and model predicting one-step ahead."
   ]
  },
  {
   "cell_type": "code",
   "execution_count": null,
   "id": "f7a3cfe7-4f7c-4538-8f05-18126be02fff",
   "metadata": {},
   "outputs": [],
   "source": [
    "data_loader = TorchTimeSeriesCsvDataLoader(\n",
    "        dataset_path=r\"data/WienerHammerBenchmark.csv\",\n",
    "        input_columns=[\"uBenchMark\"],\n",
    "        output_columns=[\"yBenchMark\"],\n",
    "        test_size=88_000,\n",
    "        batch_size=512,\n",
    "        validation_size=0.1,\n",
    "        window_generation_config=dict(\n",
    "            shift=1,\n",
    "            forward_input_window_size=256,\n",
    "            forward_output_window_size=256,\n",
    "            forward_output_mask=256 - 1),\n",
    "        dtype=torch.float32,\n",
    "    )\n"
   ]
  },
  {
   "cell_type": "markdown",
   "id": "5ace63cd-ef23-4f6e-a488-69aa7dd01e6d",
   "metadata": {},
   "source": [
    "### Model Selection\n",
    "\n",
    "Simple util for creating model instance using given parameters and short name for the model."
   ]
  },
  {
   "cell_type": "code",
   "execution_count": null,
   "id": "9774eaee",
   "metadata": {},
   "outputs": [],
   "source": [
    "def model_from_parameters(parameters):\n",
    "    model_name_to_build_func = {\n",
    "        \"FP\": frequency_only_mlp_from_parameters,\n",
    "        \"MLP\": time_series_mlp_from_parameters,\n",
    "        \"FMLP\": fmlp_from_parameters,\n",
    "    }\n",
    "\n",
    "    return model_name_to_build_func.get(parameters[\"model\"])(parameters)"
   ]
  },
  {
   "cell_type": "markdown",
   "id": "4ec99ceb-0450-49ac-85cf-27b7ff2b7913",
   "metadata": {},
   "source": [
    "### Runner Config\n",
    "\n",
    "Configuration for experiment runner, it supports number of parameters:\n",
    "* `device` - torch device to run on, CUDA or CPU\n",
    "* `callback_parameters` - parameters provided to Trainer, for more details see description of callbacks in `src/trainers/callbacks.py`\n",
    "* `checkpoint_parameters` - parameters provided to Trainer, for more details see description of callbacks in `src/trainers/checkpoints.py`"
   ]
  },
  {
   "cell_type": "code",
   "execution_count": null,
   "id": "f96f93d5-8572-4c6c-a955-70c3f1a8dde6",
   "metadata": {},
   "outputs": [],
   "source": [
    "runner_config = {\n",
    "    \"callback_parameters\": {\n",
    "        \"names\": [\"early_stopping\", \"regression_report\", \"training_timeout\"],\n",
    "        \"parameters\": [\n",
    "            {\"metric_name\": \"RMSE\", \"patience\": 1000, \"moving_average_window_size\": 100, \"delta\": 1},  # early stopping\n",
    "            {\"run_period\": 1, \"metric_names\": [\"MSE\", \"RMSE\", \"R2\"]},  # reporter\n",
    "            {\"max_training_time\": 24 * 60 * 60}  # timeout\n",
    "        ],\n",
    "    },\n",
    "    \"checkpoint_parameters\": {\n",
    "        \"names\": [\"simple_model_checkpoint\", \"best_model_checkpoint\"],\n",
    "        \"parameters\": [\n",
    "            {\"model_save_path\": \"models/test\", \"run_period\": 100},  # simple_model_checkpoint\n",
    "            {\"model_save_path\": \"models/test\", \"metric_name\": \"RMSE\"}  # best_model_checkpoint\n",
    "        ],\n",
    "        \"restore_from\": \"BestModelCheckpoint\",\n",
    "    },\n",
    "    \"device\": \"cuda\",\n",
    "}\n",
    "\n",
    "runner = WandbRunner(\n",
    "    runner_config,\n",
    "    model_from_parameters=model_from_parameters,\n",
    "    data_loader=data_loader,\n",
    "    reporters=reporters,\n",
    ")"
   ]
  },
  {
   "cell_type": "markdown",
   "id": "ed1fcf64-65db-4b4c-936e-de1d72bdd560",
   "metadata": {},
   "source": [
    "### Sweep Config\n",
    "\n",
    "Sweep config is a `dict` providing parameters to WANDB sweep and parameters used to create model instance along training parameters, such as optimizer or number of epochs."
   ]
  },
  {
   "cell_type": "code",
   "execution_count": null,
   "id": "d7b64194-8fa1-45a8-b506-0d41136f6c38",
   "metadata": {},
   "outputs": [],
   "source": [
    "sweep_config = {\n",
    "    \"name\" : \"sweep-name\",\n",
    "    \"method\" : \"grid\",  # supports grid, random or bayesian search\n",
    "    \"metric\": {\n",
    "        \"name\": \"NRMSE\",\n",
    "        \"goal\": \"minimize\",\n",
    "    },\n",
    "    # parameters provided to model and trainig script\n",
    "    \"parameters\" : {\n",
    "        \"optimizer\": {\n",
    "            \"values\": [\"adam\"]\n",
    "        },\n",
    "        \"n_epochs\": {\n",
    "            \"values\": [100_000],\n",
    "        },\n",
    "        \"loss_function\":{\n",
    "            \"values\": [\"mse\"]\n",
    "        },\n",
    "        \"n_input_time_steps\": {\n",
    "            \"values\": [256],  # this needs to be aligned with data_loader configuration\n",
    "            },\n",
    "        \"n_output_time_steps\": {\n",
    "            \"values\": [1]\n",
    "        },\n",
    "        \"n_input_state_variables\": {\n",
    "             \"values\": [1],\n",
    "        },\n",
    "        \"n_output_state_variables\": {\n",
    "            \"values\": [1],\n",
    "        },\n",
    "        # model parameters\n",
    "        \"n_hidden_layers\": {\n",
    "            \"values\": [5],\n",
    "        },\n",
    "        \"activation\": {\n",
    "            \"values\": [\"gelu\"]\n",
    "        },\n",
    "        \"n_hidden_time_steps\": {\n",
    "            \"values\": [64],\n",
    "        },\n",
    "        \"n_hidden_state_variables\": {\n",
    "            \"values\": [1],\n",
    "        },\n",
    "        \"model\": {\n",
    "            \"values\": [\"MLP\", \"FMLP\", \"FP\"],\n",
    "        }\n",
    "    }\n",
    "}"
   ]
  },
  {
   "cell_type": "markdown",
   "id": "73ae7821-a5cf-4b55-9dfc-f5c094b97746",
   "metadata": {},
   "source": [
    "This will run 3 training experiments with the same parameters for each model, `MLP`, `FMLP` and `FP`."
   ]
  },
  {
   "cell_type": "code",
   "execution_count": null,
   "id": "f6480379",
   "metadata": {},
   "outputs": [],
   "source": [
    "runner.run_sweep(sweep_config, project_name=\"fmlp\", n_runs=3)"
   ]
  },
  {
   "cell_type": "code",
   "execution_count": null,
   "id": "c09eb15f",
   "metadata": {},
   "outputs": [],
   "source": []
  }
 ],
 "metadata": {
  "kernelspec": {
   "display_name": "Python 3 (ipykernel)",
   "language": "python",
   "name": "python3"
  },
  "language_info": {
   "codemirror_mode": {
    "name": "ipython",
    "version": 3
   },
   "file_extension": ".py",
   "mimetype": "text/x-python",
   "name": "python",
   "nbconvert_exporter": "python",
   "pygments_lexer": "ipython3",
   "version": "3.9.6"
  }
 },
 "nbformat": 4,
 "nbformat_minor": 5
}
